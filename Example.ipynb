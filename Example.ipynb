{
 "cells": [
  {
   "cell_type": "code",
   "execution_count": 121,
   "metadata": {},
   "outputs": [],
   "source": [
    "from class_geometry import *\n",
    "from class_section import I_section, C_section"
   ]
  },
  {
   "cell_type": "markdown",
   "metadata": {},
   "source": [
    "Example for geometry class to create an arbitrary section\n"
   ]
  },
  {
   "cell_type": "markdown",
   "metadata": {},
   "source": [
    "Use Point Class to create vertices of shape, Use Line Class to join points\n"
   ]
  },
  {
   "cell_type": "markdown",
   "metadata": {},
   "source": [
    "Geomtry?\n",
    "Consider Hollow Square section as Geometry. Two Shape needs to be defined. one is outer square section and another one is inside square section.\n"
   ]
  },
  {
   "cell_type": "code",
   "execution_count": 122,
   "metadata": {},
   "outputs": [
    {
     "data": {
      "image/png": "[encoded data removed]",
      "text/plain": [
       "<Figure size 640x480 with 1 Axes>"
      ]
     },
     "metadata": {},
     "output_type": "display_data"
    },
    {
     "name": "stdout",
     "output_type": "stream",
     "text": [
      "------  ---------\n",
      "weight  0.720481\n",
      "area    0.183562\n",
      "xm      0.5\n",
      "ym      0.5\n",
      "Ixx     0.0271102\n",
      "Iyy     0.0271102\n",
      "rxx     0.384304\n",
      "ryy     0.384304\n",
      "Zexx    0.0542204\n",
      "Zeyy    0.0542204\n",
      "xp      0.499999\n",
      "yp      0.5\n",
      "Zpxx    0.0645914\n",
      "Zpyy    0.0645914\n",
      "------  ---------\n"
     ]
    }
   ],
   "source": [
    "# Defining Outer Square section With Fillets\n",
    "# Vertices\n",
    "p1 = Point(0.1, 0.0)\n",
    "p2 = Point(0.9, 0.0) \n",
    "p3 = Point(1.0, 0.1)\n",
    "p4 = Point(1.0, 0.9)\n",
    "p5 = Point(0.9, 1.0)\n",
    "p6 = Point(0.1, 1.0)\n",
    "p7 = Point(0.0, 0.9)\n",
    "p8 = Point(0.0, 0.1)\n",
    "\n",
    "# defining Points for centre of circular curve (Fillets)\n",
    "pc1 = Point(0.1, 0.1)\n",
    "pc2 = Point(0.9, 0.1)\n",
    "pc3 = Point(0.9, 0.9)\n",
    "pc4 = Point(0.1, 0.9)\n",
    "\n",
    "# Define Line and Curve in Anti-clockwise direction for Shape 1 (Outer Square)\n",
    "L1 = Line(p1,p2) # straight line joining two points\n",
    "C1 = C_curve(p2,p3,pc2)\n",
    "L2 = Line(p3,p4)\n",
    "C2 = C_curve(p4,p5,pc3)\n",
    "L3 = Line(p5,p6)\n",
    "C3 = C_curve(p6,p7,pc4)\n",
    "L4 = Line(p7,p8)\n",
    "C4 = C_curve(p8,p1,pc1)\n",
    "\n",
    "S1 = Shape(line_list=[L1, C1, L2, C2, L3, C3, L4, C4])\n",
    "\n",
    "# Defining Inner Square section With Fillets\n",
    "# Vertices\n",
    "p1 = Point(0.10, 0.05)\n",
    "p2 = Point(0.90, 0.05) \n",
    "p3 = Point(0.95, 0.10)\n",
    "p4 = Point(0.95, 0.90)\n",
    "p5 = Point(0.90, 0.95)\n",
    "p6 = Point(0.10, 0.95)\n",
    "p7 = Point(0.05, 0.90)\n",
    "p8 = Point(0.05, 0.10)\n",
    "\n",
    "# defining Points for centre of circular curve (Fillets)\n",
    "pc1 = Point(0.1, 0.1)\n",
    "pc2 = Point(0.9, 0.1)\n",
    "pc3 = Point(0.9, 0.9)\n",
    "pc4 = Point(0.1, 0.9)\n",
    "\n",
    "# Define Line and Curve in Clockwise direction for Shape 2 (Inner Square)\n",
    "C1 = C_curve(p1,p8,pc1)\n",
    "L1 = Line(p8,p7) # straight line joining two points\n",
    "C2 = C_curve(p7,p6,pc4)\n",
    "L2 = Line(p6,p5)\n",
    "C3 = C_curve(p5,p4,pc3)\n",
    "L3 = Line(p4,p3)\n",
    "C4 = C_curve(p3,p2,pc2)\n",
    "L4 = Line(p2,p1)\n",
    "\n",
    "S2 = Shape(line_list=[C1, L1, C2, L2, C3, L3, C4, L4])\n",
    "G1=Geometry([S1, S2])\n",
    "G1.display()\n",
    "G1.printproperties()\n",
    "\n",
    "# centroid coordinates = xm, ym\n",
    "# Moment of inertia about horizontal x-x axis = Ixx\n",
    "# Moment of inertia about vertical y-y axis = Iyy\n",
    "# radius of gyration = rxx, ryy\n",
    "# Elastic section modulus = Zexx, Zeyy\n",
    "# coordinates for equal area axis = xp, yp\n",
    "# Plastic section modulus = Zpxx, Zpyy"
   ]
  },
  {
   "cell_type": "markdown",
   "metadata": {},
   "source": [
    "Below is an example of I shaped cross-ection Geometry that need to have only one Shape.\n"
   ]
  },
  {
   "cell_type": "code",
   "execution_count": 123,
   "metadata": {},
   "outputs": [
    {
     "data": {
      "image/png": "[encoded data removed]",
      "text/plain": [
       "<Figure size 640x480 with 1 Axes>"
      ]
     },
     "metadata": {},
     "output_type": "display_data"
    },
    {
     "name": "stdout",
     "output_type": "stream",
     "text": [
      "------  ----------------\n",
      "weight       7.242\n",
      "area       922.548\n",
      "xm          10.9536\n",
      "ym          50\n",
      "Ixx          1.34758e+06\n",
      "Iyy     121611\n",
      "rxx         38.2193\n",
      "ryy         11.4813\n",
      "Zexx     26951.6\n",
      "Zeyy      4186.76\n",
      "xp           4.61274\n",
      "yp          50\n",
      "Zpxx     32317.2\n",
      "Zpyy      7977.46\n",
      "------  ----------------\n"
     ]
    }
   ],
   "source": [
    "# (self, h,b,tf,tw,D,r1,r2)\n",
    "h = 100 # depth of c section\n",
    "b = 40 # width of flange\n",
    "tf = 6 # thickness of flange\n",
    "tw = 5 # thickness of web\n",
    "D = 94 # angle degree\n",
    "r1 = 4 # radius of fillet 1\n",
    "r2 = 3 # radius of fillet 2\n",
    "section_1= C_section(h,b,tf,tw,D,r1,r2)\n",
    "section_1.shape().display()\n",
    "section_1.printproperties()\n"
   ]
  }
 ],
 "metadata": {
  "kernelspec": {
   "display_name": "Python 3",
   "language": "python",
   "name": "python3"
  },
  "language_info": {
   "codemirror_mode": {
    "name": "ipython",
    "version": 3
   },
   "file_extension": ".py",
   "mimetype": "text/x-python",
   "name": "python",
   "nbconvert_exporter": "python",
   "pygments_lexer": "ipython3",
   "version": "3.12.5"
  }
 },
 "nbformat": 4,
 "nbformat_minor": 2
}
