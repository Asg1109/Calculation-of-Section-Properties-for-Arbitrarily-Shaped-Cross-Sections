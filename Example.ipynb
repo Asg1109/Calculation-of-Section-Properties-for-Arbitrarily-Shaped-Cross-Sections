{
 "cells": [
  {
   "cell_type": "code",
   "execution_count": 25,
   "metadata": {},
   "outputs": [],
   "source": [
    "from class_geometry import *\n"
   ]
  },
  {
   "cell_type": "code",
   "execution_count": 26,
   "metadata": {},
   "outputs": [],
   "source": [
    "p1 = Point(0,0)\n",
    "p2 = Point(760,0)\n",
    "p3 = Point(760,250)\n",
    "p4 = Point(517.5,400)\n",
    "p5 = Point(517.5,2150)\n",
    "p6 = Point(880,2250)\n",
    "p7 = Point(880, 2400)\n",
    "p8 = Point(-120, 2400)\n",
    "p9 = Point(-120,2250)\n",
    "p10 = Point(242.5,2150)\n",
    "p11 = Point(242.5,400)\n",
    "p12 = Point(0,250)\n",
    "\n",
    "l1 =Line(p1,p2)\n",
    "l2 =Line(p2,p3)\n",
    "l3 =Line(p3,p4)\n",
    "l4 =Line(p4,p5)\n",
    "l5 =Line(p5,p6)\n",
    "l6 =Line(p6,p7)\n",
    "l7 =Line(p7,p8)\n",
    "l8 =Line(p8,p9)\n",
    "l9 =Line(p9,p10)\n",
    "l10 =Line(p10,p11)\n",
    "l11 =Line(p11,p12)\n",
    "l12 =Line(p12,p1)"
   ]
  },
  {
   "cell_type": "code",
   "execution_count": 27,
   "metadata": {},
   "outputs": [
    {
     "data": {
      "image/png": "[encoded data removed]",
      "text/plain": [
       "<Figure size 640x480 with 1 Axes>"
      ]
     },
     "metadata": {},
     "output_type": "display_data"
    },
    {
     "name": "stdout",
     "output_type": "stream",
     "text": [
      "------  ----------------\n",
      "weight       3.7783e+06\n",
      "area    962625\n",
      "xm         380\n",
      "ym        1195.97\n",
      "Ixx          6.62374e+11\n",
      "Iyy          2.96481e+10\n",
      "rxx        829.513\n",
      "ryy        175.497\n",
      "Zexx         5.50129e+08\n",
      "Zeyy         5.92962e+07\n",
      "xp         380\n",
      "yp        1177.05\n",
      "Zpxx         7.18134e+08\n",
      "Zpyy         1.28719e+08\n",
      "------  ----------------\n"
     ]
    }
   ],
   "source": [
    "G1=Geometry([Shape(line_list=[l1,l2,l3,l4,l5,l6,l7,l8,l9,l10,l11,l12])])\n",
    "G1.display()\n",
    "G1.printproperties()"
   ]
  },
  {
   "cell_type": "code",
   "execution_count": 28,
   "metadata": {},
   "outputs": [],
   "source": [
    "p1 = Point(-95,0)\n",
    "p2 = Point(95,0)\n",
    "p3 = Point(95,61.53)\n",
    "p4 = Point(34.37,99.03)\n",
    "p5 = Point(34.37,536.53)\n",
    "p6 = Point(125,561.53)\n",
    "p7 = Point(125, 600)\n",
    "p8 = Point(-125, 600)\n",
    "p9 = Point(-125, 561.53)\n",
    "p10 = Point(-34.37,536.53)\n",
    "p11 = Point(-34.37,99.03)\n",
    "p12 = Point(-95,61.53)\n",
    "\n",
    "l1 =Line(p1,p2)\n",
    "l2 =Line(p2,p3)\n",
    "l3 =Line(p3,p4)\n",
    "l4 =Line(p4,p5)\n",
    "l5 =Line(p5,p6)\n",
    "l6 =Line(p6,p7)\n",
    "l7 =Line(p7,p8)\n",
    "l8 =Line(p8,p9)\n",
    "l9 =Line(p9,p10)\n",
    "l10 =Line(p10,p11)\n",
    "l11 =Line(p11,p12)\n",
    "l12 =Line(p12,p1)"
   ]
  },
  {
   "cell_type": "code",
   "execution_count": 29,
   "metadata": {},
   "outputs": [
    {
     "data": {
      "image/png": "[encoded data removed]",
      "text/plain": [
       "<Figure size 640x480 with 1 Axes>"
      ]
     },
     "metadata": {},
     "output_type": "display_data"
    },
    {
     "name": "stdout",
     "output_type": "stream",
     "text": [
      "------  ----------------\n",
      "weight  236354\n",
      "area     60217.6\n",
      "xm          -9.66622e-16\n",
      "ym         300.148\n",
      "Ixx          2.59266e+09\n",
      "Iyy          1.16515e+08\n",
      "rxx        207.497\n",
      "ryy         43.9875\n",
      "Zexx         8.63794e+06\n",
      "Zeyy    932122\n",
      "xp           0\n",
      "yp         296.393\n",
      "Zpxx         1.12397e+07\n",
      "Zpyy         2.01747e+06\n",
      "------  ----------------\n"
     ]
    }
   ],
   "source": [
    "G2=Geometry([Shape(line_list=[l1,l2,l3,l4,l5,l6,l7,l8,l9,l10,l11,l12])])\n",
    "G2.display()\n",
    "G2.printproperties()"
   ]
  },
  {
   "cell_type": "code",
   "execution_count": 30,
   "metadata": {},
   "outputs": [
    {
     "data": {
      "image/png": "[encoded data removed]",
      "text/plain": [
       "<Figure size 640x480 with 1 Axes>"
      ]
     },
     "metadata": {},
     "output_type": "display_data"
    },
    {
     "name": "stdout",
     "output_type": "stream",
     "text": [
      "------  --------------\n",
      "weight     7.3476e+06\n",
      "area       1.872e+06\n",
      "xm         0\n",
      "ym      1228.15\n",
      "Ixx        9.32076e+11\n",
      "Iyy        9.69344e+10\n",
      "rxx      705.623\n",
      "ryy      227.555\n",
      "Zexx       7.58926e+08\n",
      "Zeyy       1.93869e+08\n",
      "xp         0\n",
      "yp      1231.58\n",
      "Zpxx       1.14634e+09\n",
      "Zpyy       3.6744e+08\n",
      "------  --------------\n"
     ]
    }
   ],
   "source": [
    "p1 = Point(380,0)\n",
    "p2 = Point(380,2150)\n",
    "p3 = Point(500,2250)\n",
    "p4 = Point(500,2400)\n",
    "p5 = Point(-500,2400)\n",
    "p6 = Point(-500,2250)\n",
    "p7 = Point(-380,2150)\n",
    "p8 = Point(-380,0)\n",
    "\n",
    "l1 =Line(p1,p2)\n",
    "l2 =Line(p2,p3)\n",
    "l3 =Line(p3,p4)\n",
    "l4 =Line(p4,p5)\n",
    "l5 =Line(p5,p6)\n",
    "l6 =Line(p6,p7)\n",
    "l7 =Line(p7,p8)\n",
    "l8 =Line(p8,p1)\n",
    "G3=Geometry([Shape(line_list=[l1,l2,l3,l4,l5,l6,l7,l8])])\n",
    "G3.display()\n",
    "G3.printproperties()"
   ]
  }
 ],
 "metadata": {
  "kernelspec": {
   "display_name": "Python 3",
   "language": "python",
   "name": "python3"
  },
  "language_info": {
   "codemirror_mode": {
    "name": "ipython",
    "version": 3
   },
   "file_extension": ".py",
   "mimetype": "text/x-python",
   "name": "python",
   "nbconvert_exporter": "python",
   "pygments_lexer": "ipython3",
   "version": "3.12.4"
  }
 },
 "nbformat": 4,
 "nbformat_minor": 2
}
